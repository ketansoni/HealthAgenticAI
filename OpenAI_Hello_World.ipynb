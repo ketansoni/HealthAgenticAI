{
  "cells": [
    {
      "cell_type": "markdown",
      "metadata": {
        "id": "view-in-github",
        "colab_type": "text"
      },
      "source": [
        "<a href=\"https://colab.research.google.com/github/ketansoni/HealthAgenticAI/blob/main/OpenAI_Hello_World.ipynb\" target=\"_parent\"><img src=\"https://colab.research.google.com/assets/colab-badge.svg\" alt=\"Open In Colab\"/></a>"
      ]
    },
    {
      "cell_type": "code",
      "execution_count": 9,
      "id": "845fa645",
      "metadata": {
        "id": "845fa645",
        "colab": {
          "base_uri": "https://localhost:8080/"
        },
        "outputId": "ff9a9158-914f-41a1-945c-227e67b09507"
      },
      "outputs": [
        {
          "output_type": "stream",
          "name": "stdout",
          "text": [
            "Hello! How can I assist you today?\n"
          ]
        }
      ],
      "source": [
        "import openai\n",
        "import pandas as pd\n",
        "\n",
        "# API key here\n",
        "openai_api_key = ''\n",
        "\n",
        "# don't share this key in public / github\n",
        "\n",
        "# chat completion method\n",
        "# https://platform.openai.com/docs/guides/text-generation/chat-completions-api\n",
        "client = openai.OpenAI(\n",
        "    # This is the default and can be omitted\n",
        "    api_key=openai_api_key\n",
        ")\n",
        "\n",
        "def get_completion(prompt, model=\"gpt-3.5-turbo-0125\"):\n",
        "    messages = [{\"role\": \"user\", \"content\": prompt}]\n",
        "    response = client.chat.completions.create(\n",
        "        model=model,\n",
        "        messages=messages,\n",
        "        temperature=0\n",
        "    )\n",
        "    return response.choices[0].message.content\n",
        "\n",
        "    prompt = f\"\"\"Hello World\"\"\"\n",
        "\n",
        "response = get_completion(prompt)\n",
        "print(response)\n",
        "#If this runs successfully, your API key is working!"
      ]
    }
  ],
  "metadata": {
    "kernelspec": {
      "display_name": "Python 3 (ipykernel)",
      "language": "python",
      "name": "python3"
    },
    "language_info": {
      "codemirror_mode": {
        "name": "ipython",
        "version": 3
      },
      "file_extension": ".py",
      "mimetype": "text/x-python",
      "name": "python",
      "nbconvert_exporter": "python",
      "pygments_lexer": "ipython3",
      "version": "3.9.13"
    },
    "colab": {
      "provenance": [],
      "include_colab_link": true
    }
  },
  "nbformat": 4,
  "nbformat_minor": 5
}